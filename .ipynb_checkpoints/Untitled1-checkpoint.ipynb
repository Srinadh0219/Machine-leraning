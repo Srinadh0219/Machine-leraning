{
 "cells": [
  {
   "cell_type": "code",
   "execution_count": null,
   "id": "82ef0144-cfb9-44a4-9b42-11d0191ba449",
   "metadata": {},
   "outputs": [],
   "source": []
  }
 ],
 "metadata": {
  "kernelspec": {
   "display_name": "",
   "name": ""
  },
  "language_info": {
   "name": ""
  }
 },
 "nbformat": 4,
 "nbformat_minor": 5
}

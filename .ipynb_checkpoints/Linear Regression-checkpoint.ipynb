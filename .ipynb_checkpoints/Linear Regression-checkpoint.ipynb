{
 "cells": [
  {
   "cell_type": "code",
   "execution_count": 57,
   "id": "0d3a50b1-9d37-4e13-a825-368760d8721a",
   "metadata": {},
   "outputs": [
    {
     "name": "stdout",
     "output_type": "stream",
     "text": [
      "      TV  Sales\n",
      "0  230.1   22.1\n",
      "1   44.5   10.4\n",
      "2   17.2    9.3\n",
      "3  151.5   18.5\n",
      "4  180.8   12.9\n"
     ]
    }
   ],
   "source": [
    "#Import dataset and display first 5 rows\n",
    "import pandas as pd\n",
    "import numpy as np\n",
    "import matplotlib.pyplot as plt\n",
    "from sklearn.model_selection import train_test_split\n",
    "ds=pd.read_csv(\"tvmarketing.csv\")\n",
    "print(ds.head())"
   ]
  },
  {
   "cell_type": "code",
   "execution_count": 7,
   "id": "d22873c8-23f1-4516-8354-cc1803a8eefe",
   "metadata": {},
   "outputs": [
    {
     "name": "stdout",
     "output_type": "stream",
     "text": [
      "TV       float64\n",
      "Sales    float64\n",
      "dtype: object\n"
     ]
    }
   ],
   "source": [
    "#Check column data types\n",
    "print(ds.dtypes)"
   ]
  },
  {
   "cell_type": "code",
   "execution_count": 11,
   "id": "8d2f1da1-3732-43a8-b93e-8d20a9098883",
   "metadata": {},
   "outputs": [
    {
     "name": "stdout",
     "output_type": "stream",
     "text": [
      "(200, 2)\n"
     ]
    }
   ],
   "source": [
    "# Check the shape of the Data Frame (rows, columns)\n",
    "print(ds.shape)"
   ]
  },
  {
   "cell_type": "code",
   "execution_count": 13,
   "id": "0bbe8e74-dd2d-45fc-a6bd-010be2c465c2",
   "metadata": {},
   "outputs": [
    {
     "name": "stdout",
     "output_type": "stream",
     "text": [
      "<bound method NDFrame.describe of         TV  Sales\n",
      "0    230.1   22.1\n",
      "1     44.5   10.4\n",
      "2     17.2    9.3\n",
      "3    151.5   18.5\n",
      "4    180.8   12.9\n",
      "..     ...    ...\n",
      "195   38.2    7.6\n",
      "196   94.2    9.7\n",
      "197  177.0   12.8\n",
      "198  283.6   25.5\n",
      "199  232.1   13.4\n",
      "\n",
      "[200 rows x 2 columns]>\n"
     ]
    }
   ],
   "source": [
    "print(ds.describe)"
   ]
  },
  {
   "cell_type": "code",
   "execution_count": 33,
   "id": "dc1dbe97-cd46-47cd-b8db-77009f94b9be",
   "metadata": {},
   "outputs": [
    {
     "data": {
      "image/png": "[encoded data removed]",
      "text/plain": [
       "<Figure size 640x480 with 1 Axes>"
      ]
     },
     "metadata": {},
     "output_type": "display_data"
    }
   ],
   "source": [
    "#Visualize the relationship between the features and the dependent variable using scatterplots\n",
    "plt.scatter(ds['TV'], ds['Sales'] ,color='green')\n",
    "plt.xlabel=['TV']\n",
    "plt.ylabel=['sales']\n",
    "plt.title=(\"Relationship b/w features and varaiable\")\n",
    "plt.show()\n"
   ]
  },
  {
   "cell_type": "code",
   "execution_count": 45,
   "id": "45c9e019-fda4-4137-9f5b-2a17822ee993",
   "metadata": {},
   "outputs": [
    {
     "name": "stdout",
     "output_type": "stream",
     "text": [
      "        TV\n",
      "0    230.1\n",
      "1     44.5\n",
      "2     17.2\n",
      "3    151.5\n",
      "4    180.8\n",
      "..     ...\n",
      "195   38.2\n",
      "196   94.2\n",
      "197  177.0\n",
      "198  283.6\n",
      "199  232.1\n",
      "\n",
      "[200 rows x 1 columns]      Sales\n",
      "0     22.1\n",
      "1     10.4\n",
      "2      9.3\n",
      "3     18.5\n",
      "4     12.9\n",
      "..     ...\n",
      "195    7.6\n",
      "196    9.7\n",
      "197   12.8\n",
      "198   25.5\n",
      "199   13.4\n",
      "\n",
      "[200 rows x 1 columns]\n"
     ]
    }
   ],
   "source": [
    "#Prepare X (feature variables) and y (response variable)\n",
    "X=ds[['TV']]\n",
    "y=ds[['Sales']]\n",
    "print(X,y)"
   ]
  },
  {
   "cell_type": "code",
   "execution_count": 81,
   "id": "a24209d8-4e04-48aa-a9a1-7aa847070489",
   "metadata": {},
   "outputs": [
    {
     "name": "stdout",
     "output_type": "stream",
     "text": [
      "        TV\n",
      "101  296.4\n",
      "122  224.0\n",
      "192   17.2\n",
      "180  156.6\n",
      "49    66.9\n",
      "..     ...\n",
      "31   112.9\n",
      "124  229.5\n",
      "190   39.5\n",
      "59   210.7\n",
      "156   93.9\n",
      "\n",
      "[140 rows x 1 columns]\n"
     ]
    }
   ],
   "source": [
    "#Split Data into Training and Testing Sets (70%-Train 30%-Test) - X_train,y_train, X_test, y_test\n",
    "X_train,X_test,y_train,y_test=train_test_split(X,y,test_size=0.3)\n",
    "print(X_train)\n"
   ]
  },
  {
   "cell_type": "code",
   "execution_count": 83,
   "id": "d60ead3f-f958-44a8-ab50-4dc26a243afb",
   "metadata": {},
   "outputs": [
    {
     "name": "stdout",
     "output_type": "stream",
     "text": [
      "(140, 1)\n"
     ]
    }
   ],
   "source": [
    "print( X_train.shape)"
   ]
  },
  {
   "cell_type": "code",
   "execution_count": 90,
   "id": "1daecc52-71b2-421d-9bbd-32cd24ac05d7",
   "metadata": {},
   "outputs": [
    {
     "name": "stdout",
     "output_type": "stream",
     "text": [
      "(60, 1)\n"
     ]
    }
   ],
   "source": [
    "print(X_test.shape)"
   ]
  },
  {
   "cell_type": "code",
   "execution_count": 94,
   "id": "c9666026-3947-42ed-8a71-ab01899906ed",
   "metadata": {},
   "outputs": [
    {
     "data": {
      "text/plain": [
       "(14.366428571428568, 3.348491190139097e-17)"
      ]
     },
     "execution_count": 94,
     "metadata": {},
     "output_type": "execute_result"
    }
   ],
   "source": [
    "# 9 Perform Linear Regression (on train data) without using any library and print the coefficients values\n",
    "import numpy as np\n",
    "\n",
    "X_train_np = X_train.values.flatten()\n",
    "y_train_np = y_train.values\n",
    "\n",
    "X_train_mean = np.mean(X_train_np)\n",
    "y_train_mean = np.mean(y_train_np)\n",
    "\n",
    "numerator = np.sum((X_train_np - X_train_mean) * (y_train_np - y_train_mean))\n",
    "denominator = np.sum((X_train_np - X_train_mean) ** 2)\n",
    "b1 = numerator / denominator\n",
    "b0 = y_train_mean - (b1 * X_train_mean)\n",
    "\n",
    "b0, b1\n"
   ]
  },
  {
   "cell_type": "code",
   "execution_count": null,
   "id": "3da22d6a-1c66-43c3-b2d1-923dfe7f6a47",
   "metadata": {},
   "outputs": [],
   "source": []
  }
 ],
 "metadata": {
  "kernelspec": {
   "display_name": "Python [conda env:base] *",
   "language": "python",
   "name": "conda-base-py"
  },
  "language_info": {
   "codemirror_mode": {
    "name": "ipython",
    "version": 3
   },
   "file_extension": ".py",
   "mimetype": "text/x-python",
   "name": "python",
   "nbconvert_exporter": "python",
   "pygments_lexer": "ipython3",
   "version": "3.12.7"
  }
 },
 "nbformat": 4,
 "nbformat_minor": 5
}

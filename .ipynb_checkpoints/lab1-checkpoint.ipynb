{
 "cells": [
  {
   "cell_type": "code",
   "execution_count": 1,
   "id": "c8e4c3e8-23cb-4288-9ae2-410ef2601d02",
   "metadata": {},
   "outputs": [
    {
     "name": "stdout",
     "output_type": "stream",
     "text": [
      "0    1\n",
      "1    2\n",
      "2    3\n",
      "3    4\n",
      "dtype: int64\n"
     ]
    }
   ],
   "source": [
    "import pandas as pd\n",
    "data=[1,2,3,4]\n",
    "df=pd.Series(data)\n",
    "print(df)\n"
   ]
  },
  {
   "cell_type": "code",
   "execution_count": 4,
   "id": "1461f993-3f63-410f-8ecf-a1be957ddfa5",
   "metadata": {},
   "outputs": [
    {
     "name": "stdout",
     "output_type": "stream",
     "text": [
      "       Marks Subject\n",
      "CS013     15      DA\n",
      "CS002     13      CC\n",
      "BM012     12    Fome\n"
     ]
    }
   ],
   "source": [
    "import pandas as pd\n",
    "data={\"Marks\":[15,13,12],\n",
    "\"Subject\":[\"DA\",\"CC\",\"Fome\"]\n",
    "     }\n",
    "df=pd.DataFrame(data,index=[\"CS013\",\"CS002\",\"BM012\"])\n",
    "print(df)"
   ]
  },
  {
   "cell_type": "code",
   "execution_count": 14,
   "id": "c16cc5e9-93b5-4d35-bb74-21bebce50a9f",
   "metadata": {},
   "outputs": [
    {
     "name": "stdout",
     "output_type": "stream",
     "text": [
      "get the row names:\n",
      "   TransactionID TransactionDate  UserID  ProductID  Quantity\n",
      "5              6      2013-12-23     2.0          5         6\n",
      "6              7      2013-12-30     3.0          4         1\n",
      "7              8      2014-04-24     NaN          2         3\n",
      "8              9      2015-04-24     7.0          4         3\n",
      "9             10      2016-05-08     3.0          4         4\n"
     ]
    }
   ],
   "source": [
    "import pandas as pd\n",
    "data=pd.read_csv(\"transactions.csv\")\n",
    "print(\"get the row names:\")\n",
    "print(data.tail(5))"
   ]
  },
  {
   "cell_type": "code",
   "execution_count": 18,
   "id": "53323803-333b-45b6-8181-88feabba5f0c",
   "metadata": {},
   "outputs": [
    {
     "name": "stdout",
     "output_type": "stream",
     "text": [
      "get the row names:\n",
      "   TransactionID TransactionDate  UserID  ProductID  Quantity\n",
      "0              1      2010-08-21     7.0          2         1\n",
      "1              2      2011-05-26     3.0          4         1\n",
      "2              3      2011-06-16     3.0          3         1\n",
      "3              4      2012-08-26     1.0          2         3\n",
      "4              5      2013-06-06     2.0          4         1\n"
     ]
    }
   ],
   "source": [
    "data=pd.read_csv(\"transactions.csv\")\n",
    "print(\"get the row names:\")\n",
    "print(data.head())"
   ]
  },
  {
   "cell_type": "code",
   "execution_count": 19,
   "id": "da4e21d5-d3d7-4eef-991f-8b8ce104fb44",
   "metadata": {},
   "outputs": [
    {
     "name": "stdout",
     "output_type": "stream",
     "text": [
      "get the row names:\n",
      "<class 'pandas.core.frame.DataFrame'>\n",
      "RangeIndex: 10 entries, 0 to 9\n",
      "Data columns (total 5 columns):\n",
      " #   Column           Non-Null Count  Dtype  \n",
      "---  ------           --------------  -----  \n",
      " 0   TransactionID    10 non-null     int64  \n",
      " 1   TransactionDate  10 non-null     object \n",
      " 2   UserID           9 non-null      float64\n",
      " 3   ProductID        10 non-null     int64  \n",
      " 4   Quantity         10 non-null     int64  \n",
      "dtypes: float64(1), int64(3), object(1)\n",
      "memory usage: 532.0+ bytes\n",
      "None\n"
     ]
    }
   ],
   "source": [
    "data=pd.read_csv(\"transactions.csv\")\n",
    "print(\"get the row names:\")\n",
    "print(data.info())"
   ]
  },
  {
   "cell_type": "code",
   "execution_count": 17,
   "id": "3cd4b11e-5867-4945-9fc1-b44fa8f7c015",
   "metadata": {},
   "outputs": [
    {
     "name": "stdout",
     "output_type": "stream",
     "text": [
      "get the row names:\n",
      "<bound method NDFrame.describe of    TransactionID TransactionDate  UserID  ProductID  Quantity\n",
      "0              1      2010-08-21     7.0          2         1\n",
      "1              2      2011-05-26     3.0          4         1\n",
      "2              3      2011-06-16     3.0          3         1\n",
      "3              4      2012-08-26     1.0          2         3\n",
      "4              5      2013-06-06     2.0          4         1\n",
      "5              6      2013-12-23     2.0          5         6\n",
      "6              7      2013-12-30     3.0          4         1\n",
      "7              8      2014-04-24     NaN          2         3\n",
      "8              9      2015-04-24     7.0          4         3\n",
      "9             10      2016-05-08     3.0          4         4>\n"
     ]
    }
   ],
   "source": [
    "data=pd.read_csv(\"transactions.csv\")\n",
    "print(\"get the row names:\")\n",
    "print(data.describe)"
   ]
  },
  {
   "cell_type": "code",
   "execution_count": 21,
   "id": "e6475cf0-8219-48ea-a8f8-b872f0718b97",
   "metadata": {},
   "outputs": [
    {
     "name": "stdout",
     "output_type": "stream",
     "text": [
      "get the row names:\n",
      "   TransactionID TransactionDate  UserID  ProductID  Quantity\n",
      "0              1      2010-08-21     7.0          2         1\n",
      "1              2      2011-05-26     3.0          4         1\n",
      "2              3      2011-06-16     3.0          3         1\n",
      "3              4      2012-08-26     1.0          2         3\n",
      "4              5      2013-06-06     2.0          4         1\n",
      "5              6      2013-12-23     2.0          5         6\n",
      "6              7      2013-12-30     3.0          4         1\n",
      "7              8      2014-04-24     NaN          2         3\n",
      "8              9      2015-04-24     7.0          4         3\n",
      "9             10      2016-05-08     3.0          4         4\n"
     ]
    }
   ],
   "source": [
    "data=pd.read_csv(\"transactions.csv\")\n",
    "print(\"get the row names:\")\n",
    "print(data.head(10))"
   ]
  },
  {
   "cell_type": "code",
   "execution_count": 22,
   "id": "2822edf8-fa30-47e0-abd9-29978a0f163c",
   "metadata": {},
   "outputs": [
    {
     "ename": "SyntaxError",
     "evalue": "incomplete input (808684849.py, line 1)",
     "output_type": "error",
     "traceback": [
      "\u001b[0;36m  Cell \u001b[0;32mIn[22], line 1\u001b[0;36m\u001b[0m\n\u001b[0;31m    print(df['Quantity']\u001b[0m\n\u001b[0m                        ^\u001b[0m\n\u001b[0;31mSyntaxError\u001b[0m\u001b[0;31m:\u001b[0m incomplete input\n"
     ]
    }
   ],
   "source": [
    "print(df['Quantity']"
   ]
  },
  {
   "cell_type": "code",
   "execution_count": 24,
   "id": "e6f7acf0-3a79-4542-8096-837f2c16b8c3",
   "metadata": {},
   "outputs": [
    {
     "name": "stdout",
     "output_type": "stream",
     "text": [
      "0    1\n",
      "1    1\n",
      "2    1\n",
      "3    3\n",
      "4    1\n",
      "5    6\n",
      "6    1\n",
      "7    3\n",
      "8    3\n",
      "9    4\n",
      "Name: Quantity, dtype: int64\n"
     ]
    }
   ],
   "source": [
    "data=pd.read_csv(\"transactions.csv\")\n",
    "\n",
    "print(data['Quantity'])"
   ]
  },
  {
   "cell_type": "code",
   "execution_count": 26,
   "id": "0db87184-73de-4aea-a1c0-0809c4ecd0c6",
   "metadata": {},
   "outputs": [
    {
     "name": "stdout",
     "output_type": "stream",
     "text": [
      "get the row names:\n",
      "   Quantity  ProductID\n",
      "0         1          2\n",
      "1         1          4\n",
      "2         1          3\n",
      "3         3          2\n",
      "4         1          4\n",
      "5         6          5\n",
      "6         1          4\n",
      "7         3          2\n",
      "8         3          4\n",
      "9         4          4\n"
     ]
    }
   ],
   "source": [
    "data=pd.read_csv(\"transactions.csv\")\n",
    "print(\"get the row names:\")\n",
    "print(data[['Quantity','ProductID']])"
   ]
  },
  {
   "cell_type": "code",
   "execution_count": 27,
   "id": "ad65ebb3-44fd-4bb8-9888-ca79db7cc9cf",
   "metadata": {},
   "outputs": [
    {
     "name": "stdout",
     "output_type": "stream",
     "text": [
      "get the row names:\n",
      "TransactionID               4\n",
      "TransactionDate    2012-08-26\n",
      "UserID                    1.0\n",
      "ProductID                   2\n",
      "Quantity                    3\n",
      "Name: 3, dtype: object\n"
     ]
    }
   ],
   "source": [
    "data=pd.read_csv(\"transactions.csv\")\n",
    "print(\"get the row names:\")\n",
    "print(data.iloc[3])"
   ]
  },
  {
   "cell_type": "code",
   "execution_count": 29,
   "id": "9babe383-18b7-4ea8-b90c-074f36b5de9f",
   "metadata": {},
   "outputs": [
    {
     "name": "stdout",
     "output_type": "stream",
     "text": [
      "get the rows with quantity > 2:\n",
      "   TransactionID TransactionDate  UserID  ProductID  Quantity\n",
      "3              4      2012-08-26     1.0          2         3\n",
      "5              6      2013-12-23     2.0          5         6\n",
      "7              8      2014-04-24     NaN          2         3\n",
      "8              9      2015-04-24     7.0          4         3\n",
      "9             10      2016-05-08     3.0          4         4\n"
     ]
    }
   ],
   "source": [
    "data=pd.read_csv(\"transactions.csv\")\n",
    "print(\"get the rows with quantity > 2:\")\n",
    "filter=data[data['Quantity']>2]\n",
    "print(filter)\n"
   ]
  },
  {
   "cell_type": "code",
   "execution_count": 37,
   "id": "115e6f04-77ed-44d7-bc95-1512187e3dd7",
   "metadata": {},
   "outputs": [
    {
     "name": "stdout",
     "output_type": "stream",
     "text": [
      "   TransactionID TransactionDate  UserID  ProductID  Quant\n",
      "0              1      2010-08-21     7.0          2      1\n",
      "1              2      2011-05-26     3.0          4      1\n",
      "2              3      2011-06-16     3.0          3      1\n",
      "3              4      2012-08-26     1.0          2      3\n",
      "4              5      2013-06-06     2.0          4      1\n",
      "5              6      2013-12-23     2.0          5      6\n",
      "6              7      2013-12-30     3.0          4      1\n",
      "7              8      2014-04-24     NaN          2      3\n",
      "8              9      2015-04-24     7.0          4      3\n",
      "9             10      2016-05-08     3.0          4      4\n"
     ]
    }
   ],
   "source": [
    "data=pd.read_csv(\"transactions.csv\")\n",
    "data.rename(columns={\"Quantity\":\"Quant\"},inplace=True)\n",
    "print(data)"
   ]
  },
  {
   "cell_type": "code",
   "execution_count": 41,
   "id": "aa2362e2-f8c2-4410-80ec-0bfbb9a47c1f",
   "metadata": {},
   "outputs": [
    {
     "name": "stdout",
     "output_type": "stream",
     "text": [
      "TransactionID      0\n",
      "TransactionDate    0\n",
      "UserID             1\n",
      "ProductID          0\n",
      "Quantity           0\n",
      "dtype: int64\n"
     ]
    }
   ],
   "source": [
    "data=pd.read_csv(\"transactions.csv\")\n",
    "print(data.isnull().sum())"
   ]
  },
  {
   "cell_type": "code",
   "execution_count": 44,
   "id": "47c8ef8a-2609-4892-a29a-4d86b56fb071",
   "metadata": {},
   "outputs": [
    {
     "name": "stdout",
     "output_type": "stream",
     "text": [
      "   TransactionID TransactionDate  UserID  ProductID  Quantity\n",
      "1              2      2011-05-26     3.0          4         1\n",
      "4              5      2013-06-06     2.0          4         1\n",
      "6              7      2013-12-30     3.0          4         1\n",
      "2              3      2011-06-16     3.0          3         1\n",
      "0              1      2010-08-21     7.0          2         1\n",
      "8              9      2015-04-24     7.0          4         3\n",
      "3              4      2012-08-26     1.0          2         3\n",
      "7              8      2014-04-24     NaN          2         3\n",
      "9             10      2016-05-08     3.0          4         4\n",
      "5              6      2013-12-23     2.0          5         6\n"
     ]
    }
   ],
   "source": [
    "data=pd.read_csv(\"transactions.csv\")\n",
    "df=data.sort_values(by=[\"Quantity\",\"ProductID\"],ascending=[True,False])\n",
    "print(df)"
   ]
  },
  {
   "cell_type": "code",
   "execution_count": 45,
   "id": "10866dea-4f8d-476d-93a2-2cadcc5787fa",
   "metadata": {},
   "outputs": [
    {
     "name": "stdout",
     "output_type": "stream",
     "text": [
      "   TransactionID TransactionDate  UserID  ProductID  Quantity\n",
      "1              2      2011-05-26     3.0          4         1\n",
      "3              4      2012-08-26     1.0          2         3\n"
     ]
    }
   ],
   "source": [
    "subset=data.iloc[[1,3.6]]\n",
    "print(subset)"
   ]
  },
  {
   "cell_type": "code",
   "execution_count": 46,
   "id": "096adcbf-cf84-4c6c-a00d-e14e91c4b654",
   "metadata": {},
   "outputs": [
    {
     "name": "stdout",
     "output_type": "stream",
     "text": [
      "   TransactionID TransactionDate  UserID  ProductID  Quantity\n",
      "1              2      2011-05-26     3.0          4         1\n",
      "3              4      2012-08-26     1.0          2         3\n"
     ]
    }
   ],
   "source": [
    "subset=data.iloc[[1,3.4]]\n",
    "print(subset)"
   ]
  },
  {
   "cell_type": "code",
   "execution_count": 47,
   "id": "c452326b-bc06-4e5b-b243-523ad433488b",
   "metadata": {},
   "outputs": [
    {
     "name": "stdout",
     "output_type": "stream",
     "text": [
      "   TransactionID TransactionDate  UserID  ProductID  Quantity\n",
      "0              1      2010-08-21     7.0          2         1\n",
      "1              2      2011-05-26     3.0          4         1\n",
      "2              3      2011-06-16     3.0          3         1\n"
     ]
    }
   ],
   "source": [
    "subset=data.iloc[[0,1,2]]\n",
    "print(subset)"
   ]
  },
  {
   "cell_type": "code",
   "execution_count": 49,
   "id": "7b551164-5b6d-41c4-a0fd-ed0945073bb4",
   "metadata": {},
   "outputs": [
    {
     "name": "stdout",
     "output_type": "stream",
     "text": [
      "   TransactionID TransactionDate  UserID  ProductID  Quantity\n",
      "1              2      2011-05-26     3.0          4         1\n",
      "4              5      2013-06-06     2.0          4         1\n",
      "6              7      2013-12-30     3.0          4         1\n",
      "8              9      2015-04-24     7.0          4         3\n"
     ]
    }
   ],
   "source": [
    "subset=data.iloc[[1,4,6,8]]\n",
    "print(subset.head(10))"
   ]
  },
  {
   "cell_type": "code",
   "execution_count": 50,
   "id": "42cb087d-4ce3-46e2-a37b-e7152b139619",
   "metadata": {},
   "outputs": [
    {
     "name": "stdout",
     "output_type": "stream",
     "text": [
      "TransactionID               int64\n",
      "TransactionDate    datetime64[ns]\n",
      "UserID                    float64\n",
      "ProductID                   int64\n",
      "Quantity                    int64\n",
      "dtype: object\n"
     ]
    }
   ],
   "source": [
    "data['TransactionDate']=pd.to_datetime(df['TransactionDate'])\n",
    "print(data.dtypes)"
   ]
  },
  {
   "cell_type": "code",
   "execution_count": 51,
   "id": "d3381f79-7b4c-480a-8189-a00bce52849b",
   "metadata": {},
   "outputs": [
    {
     "name": "stdout",
     "output_type": "stream",
     "text": [
      "   TransactionID TransactionDate  UserID  ProductID  Quantity   sri\n",
      "0              1      2010-08-21     7.0          2         1   9.0\n",
      "1              2      2011-05-26     3.0          4         1   7.0\n",
      "2              3      2011-06-16     3.0          3         1   6.0\n",
      "3              4      2012-08-26     1.0          2         3   3.0\n",
      "4              5      2013-06-06     2.0          4         1   6.0\n",
      "5              6      2013-12-23     2.0          5         6   7.0\n",
      "6              7      2013-12-30     3.0          4         1   7.0\n",
      "7              8      2014-04-24     NaN          2         3   NaN\n",
      "8              9      2015-04-24     7.0          4         3  11.0\n",
      "9             10      2016-05-08     3.0          4         4   7.0\n"
     ]
    }
   ],
   "source": [
    "data['sri']=data['UserID']+data['ProductID']\n",
    "print(data)"
   ]
  },
  {
   "cell_type": "code",
   "execution_count": 52,
   "id": "0370c3f3-f374-484a-a8c7-d3beed46002c",
   "metadata": {},
   "outputs": [
    {
     "name": "stdout",
     "output_type": "stream",
     "text": [
      "   TransactionID TransactionDate\n",
      "3              4      2012-08-26\n",
      "5              6      2013-12-23\n",
      "7              8      2014-04-24\n",
      "8              9      2015-04-24\n",
      "9             10      2016-05-08\n"
     ]
    }
   ],
   "source": [
    "subset=data[data['Quantity']>1][['TransactionID','TransactionDate']]\n",
    "print(subset)"
   ]
  },
  {
   "cell_type": "code",
   "execution_count": 53,
   "id": "208eac1a-9f26-4c1c-819d-ad04c37cea2c",
   "metadata": {},
   "outputs": [
    {
     "name": "stdout",
     "output_type": "stream",
     "text": [
      "   Quantity  TransactionID\n",
      "0         1              1\n",
      "1         1              2\n",
      "2         1              3\n",
      "3         3              4\n",
      "4         1              5\n",
      "5         6              6\n",
      "6         1              7\n",
      "7         3              8\n",
      "8         3              9\n",
      "9         4             10\n"
     ]
    }
   ],
   "source": [
    "cl=['Quantity','TransactionID']\n",
    "sub=data[cl]\n",
    "print(sub)"
   ]
  },
  {
   "cell_type": "code",
   "execution_count": 57,
   "id": "becf9585-d137-44f4-8722-4b661b064f76",
   "metadata": {},
   "outputs": [
    {
     "name": "stdout",
     "output_type": "stream",
     "text": [
      "   TransactionID TransactionDate  UserID\n",
      "0  TransactionID      2010-08-21     7.0\n",
      "1  TransactionID      2011-05-26     3.0\n",
      "2  TransactionID      2011-06-16     3.0\n",
      "3  TransactionID      2012-08-26     1.0\n",
      "4  TransactionID      2013-06-06     2.0\n",
      "5  TransactionID      2013-12-23     2.0\n",
      "6  TransactionID      2013-12-30     3.0\n",
      "7  TransactionID      2014-04-24     NaN\n",
      "8  TransactionID      2015-04-24     7.0\n",
      "9  TransactionID      2016-05-08     3.0\n"
     ]
    }
   ],
   "source": [
    "columns_to_exclude = ['Quantity', 'ProductID']\n",
    "subset_columns_excluded = data[[col for col in df.columns if col not\n",
    "in columns_to_exclude]]\n",
    "print(subset_columns_excluded)"
   ]
  },
  {
   "cell_type": "code",
   "execution_count": 76,
   "id": "2e2050f4-dd42-456b-87bb-5dab8c7e3887",
   "metadata": {},
   "outputs": [
    {
     "name": "stdout",
     "output_type": "stream",
     "text": [
      "    TransactionID TransactionDate  UserID  ProductID  Quantity\n",
      "0               1      2010-08-21     7.0          2         1\n",
      "1               2      2011-05-26     3.0          4         1\n",
      "2               3      2011-06-16     3.0          3         1\n",
      "3               4      2012-08-26     1.0          2         3\n",
      "4               5      2013-06-06     2.0          4         1\n",
      "5               6      2013-12-23     2.0          5         6\n",
      "6               7      2013-12-30     3.0          4         1\n",
      "7               8      2014-04-24     NaN          2         3\n",
      "8               9      2015-04-24     7.0          4         3\n",
      "9              10      2016-05-08     3.0          4         4\n",
      "10             11            1995     5.0          2         8\n"
     ]
    }
   ],
   "source": [
    "data=pd.read_csv(\"transactions.csv\")\n",
    "data.loc[len(data)] = [11, 2025-1-29,5,2,8]\n",
    "\n",
    "print(data)\n"
   ]
  },
  {
   "cell_type": "code",
   "execution_count": 70,
   "id": "7be3f737-8de3-424f-9a3c-5f5d0a635a17",
   "metadata": {},
   "outputs": [
    {
     "name": "stdout",
     "output_type": "stream",
     "text": [
      "   TransactionID TransactionDate  UserID  ProductID  Quantity\n",
      "0              1      2010-08-21     7.0          2         1\n",
      "1              2      2011-05-26     3.0          4         1\n",
      "2              3      2011-06-16     3.0          3         1\n",
      "3              4      2012-08-26     1.0          2         3\n",
      "4              5      2013-06-06     2.0          4         3\n",
      "5              6      2013-12-23     2.0          5         3\n",
      "6              7      2013-12-30     3.0          4         1\n",
      "7              8      2014-04-24     NaN          2         3\n",
      "8              9      2015-04-24     7.0          4         3\n",
      "9             10      2016-05-08     3.0          4         4\n"
     ]
    }
   ],
   "source": [
    "data=pd.read_csv(\"transactions.csv\")\n",
    "data.loc[data['UserID'] == 2, 'Quantity'] = 3\n",
    "print(data)"
   ]
  },
  {
   "cell_type": "code",
   "execution_count": 80,
   "id": "8b0790da-b9b8-4446-a3eb-fab9e568c14b",
   "metadata": {},
   "outputs": [
    {
     "name": "stdout",
     "output_type": "stream",
     "text": [
      "    TransactionID TransactionDate  UserID  ProductID  Quantity  share\n",
      "0               1      2010-08-21     7.0          2         1      3\n",
      "1               2      2011-05-26     3.0          4         1      5\n",
      "2               3      2011-06-16     3.0          3         1      4\n",
      "3               4      2012-08-26     1.0          2         3      5\n",
      "4               5      2013-06-06     2.0          4         1      5\n",
      "5               6      2013-12-23     2.0          5         6     11\n",
      "6               7      2013-12-30     3.0          4         1      5\n",
      "7               8      2014-04-24     NaN          2         3      5\n",
      "8               9      2015-04-24     7.0          4         3      7\n",
      "9              10      2016-05-08     3.0          4         4      8\n",
      "10             11            1995     5.0          2         8     10\n"
     ]
    }
   ],
   "source": [
    "data['share']=data['Quantity']+data['ProductID']\n",
    "print(data)"
   ]
  },
  {
   "cell_type": "code",
   "execution_count": null,
   "id": "817b2ae8-23a0-4f1a-9f50-4b06423dbf46",
   "metadata": {},
   "outputs": [],
   "source": []
  },
  {
   "cell_type": "code",
   "execution_count": null,
   "id": "f017cb97-37c8-4853-85e6-98796352a9e1",
   "metadata": {},
   "outputs": [],
   "source": []
  }
 ],
 "metadata": {
  "kernelspec": {
   "display_name": "Python 3 (ipykernel)",
   "language": "python",
   "name": "python3"
  },
  "language_info": {
   "codemirror_mode": {
    "name": "ipython",
    "version": 3
   },
   "file_extension": ".py",
   "mimetype": "text/x-python",
   "name": "python",
   "nbconvert_exporter": "python",
   "pygments_lexer": "ipython3",
   "version": "3.12.7"
  }
 },
 "nbformat": 4,
 "nbformat_minor": 5
}
